{
 "cells": [
  {
   "cell_type": "markdown",
   "id": "b8be5688-65b1-488f-a743-02c2c395d116",
   "metadata": {},
   "source": [
    "Runs parameter sweep over K_charge (10^1 to 10^4) and K_speed (0.125 to 8)\n",
    "\n",
    "Single transcript population. OEP is present w/ negligible RBS as \"control\"\n",
    "\n",
    "Simulations w/ cell fopt = 0.6 are plotted in Roots et al. Sup. fig2"
   ]
  },
  {
   "cell_type": "code",
   "execution_count": 17,
   "id": "cd1b99d9-05ce-4ce6-92c3-dfe1cef353d7",
   "metadata": {},
   "outputs": [],
   "source": [
    "from trnasimtools.serialize import SerializeTwoCodonMultiTranscript\n",
    "import os"
   ]
  },
  {
   "cell_type": "code",
   "execution_count": 2,
   "id": "3c818ff1-9067-486e-aed5-f93485e0d539",
   "metadata": {},
   "outputs": [],
   "source": [
    "import numpy as np\n",
    "import pandas as pd\n",
    "import seaborn as sns\n",
    "from matplotlib import rcParams\n",
    "import matplotlib.pyplot as plt\n",
    "from matplotlib.colors import LogNorm"
   ]
  },
  {
   "cell_type": "code",
   "execution_count": 3,
   "id": "75ab475c-83c1-4d9a-a92f-a12a030626db",
   "metadata": {},
   "outputs": [],
   "source": [
    "def read_sim(path_pref, seed_start=1, seed_end=3, seed_incr=1, time_limit=None):\n",
    "    \"\"\" \n",
    "    Reads in output for an arbitrary number of simulation trials \n",
    "    (with different seeds) and concatenates results into a single\n",
    "    dataset.\n",
    "    \"\"\"\n",
    "    df_master = pd.read_csv(f\"{path_pref}_{seed_start}.tsv\", sep=\"\\t\")\n",
    "    df_master[\"seed\"] = str(seed_start)\n",
    "    for i in range(seed_start+1, seed_end+1):\n",
    "        tmp = pd.read_csv(f\"{path_pref}_{i}.tsv\", sep=\"\\t\")\n",
    "        tmp[\"seed\"] = str(i)\n",
    "        df_master = df_master.append(tmp, ignore_index=True)\n",
    "    if time_limit is not None:\n",
    "        df_master = df_master[df_master.time < time_limit]\n",
    "    return df_master\n",
    "    \n",
    "def concat_sims(path_pref, max_seed):\n",
    "    df_master = pd.read_csv(f\"{path_pref}_1.tsv\", sep=\"\\t\")\n",
    "    df_master[\"seed\"] = str(1)\n",
    "    for i in range(2, max_seed+1):\n",
    "        tmp = pd.read_csv(f\"{path_pref}_{i}.tsv\", sep=\"\\t\")\n",
    "        tmp[\"seed\"] = str(i)\n",
    "        df_master = df_master.append(tmp, ignore_index=True)\n",
    "    \n",
    "    return df_master\n",
    "    \n",
    "def get_average_protein(path, perc_good, time, max_seed):\n",
    "    df_master = concat_sims(path, max_seed)\n",
    "    df_master[\"time\"] = df_master[\"time\"].apply(np.ceil)\n",
    "    tmp = df_master.groupby([\"time\", \"species\"])[\"protein\", \"ribo_density\"].mean().reset_index()\n",
    "    tmp = tmp[(tmp.time > time - 50)] # look at simulations after equilibrium is reached\n",
    "    tmp[\"ribo_density_ave\"] = tmp[(tmp.species == \"cellularProtein\")]['ribo_density'].mean()\n",
    "    tmp = tmp[(tmp.time == time)]\n",
    "    return tmp"
   ]
  },
  {
   "cell_type": "code",
   "execution_count": 4,
   "id": "ef609de3-3793-4e7b-97d5-252b2a00dc45",
   "metadata": {},
   "outputs": [],
   "source": [
    "# simulation parameters \n",
    "time_limit = 100\n",
    "time_step = 5\n",
    "transcript_lens = [1000, 300]\n",
    "cellular_transcript_copy_number = 100\n",
    "gfp_transcript_copy_number = 20\n",
    "ribosome_copy_number = 500\n",
    "total_trna = 2500\n",
    "ecol_rbs_rate = 100000.0\n",
    "ribosome_binding_rate = 0.000001 # GFP with very low binding rate as \"control\"\n",
    "trna_charging_rates = [10.0, 30.0, 100.0, 300.0, 1000.0, 3000.0, 10000.0]\n",
    "transcript_names = [\"cellularProtein\", \"GFP\"]\n",
    "trna_composition = [(0.7, 0.3)]\n",
    "gfp_mrna_compositions = [(0.7, 0.3)]\n",
    "ribosome_speed = [0.125, 0.25, 0.5, 1.0, 2.0, 4.0, 8.0]\n",
    "ribosome_footprint = 15\n",
    "\n",
    "# cell fopts\n",
    "ecol_mrna_compositions = [(0.2, 0.8), (0.4, 0.6), (0.6, 0.4), (0.7, 0.3), (0.8, 0.2), (1.0, 0)]\n",
    "date = \"june-02-2024\""
   ]
  },
  {
   "cell_type": "code",
   "execution_count": 20,
   "id": "28086f26-39fa-4217-a335-10810380cf7b",
   "metadata": {},
   "outputs": [],
   "source": [
    "#!mkdir yaml/june-02-2024\n",
    "#!mkdir output/june-02-2024"
   ]
  },
  {
   "cell_type": "code",
   "execution_count": 21,
   "id": "a4211c11-007d-418f-a66e-50e31fec051f",
   "metadata": {},
   "outputs": [],
   "source": [
    "output_dir = \"./output\"\n",
    "\n",
    "# write simulation parameters to yaml\n",
    "for trna_prop in trna_composition:\n",
    "    for comp in gfp_mrna_compositions:\n",
    "        for ecol in ecol_mrna_compositions:\n",
    "            serializer = SerializeTwoCodonMultiTranscript(transcript_lens=transcript_lens,\n",
    "                                                           codon_comps=[ecol, comp],\n",
    "                                                           trna_proportion=trna_prop,\n",
    "                                                           transcript_names=transcript_names,\n",
    "                                                           time_limit=time_limit,\n",
    "                                                           time_step=time_step)\n",
    "            serializer.serialize(f\"yaml/{date}\")\n",
    "  \n",
    "# create simulation batch file\n",
    "configs = os.listdir(f\"yaml/{date}\")\n",
    "with open(f\"{date}.txt\", \"w\") as stream:\n",
    "    for config in configs:\n",
    "        for speed in ribosome_speed:\n",
    "            for charging_rate in trna_charging_rates:\n",
    "                for seed in range(1, 4):\n",
    "                    cmd = f\"python3 ./scripts/twocodonmultitranscript.py ./yaml/{date}/{config} {seed} {cellular_transcript_copy_number} {gfp_transcript_copy_number} \" + \\\n",
    "                      f\"{ribosome_copy_number} {total_trna} {ecol_rbs_rate} {ribosome_binding_rate} {charging_rate} {charging_rate} \" + \\\n",
    "                      f\"{output_dir}/{date}/speed_{speed} {speed} {ribosome_footprint}\"\n",
    "                    stream.write(cmd)\n",
    "                    stream.write(\"\\n\")"
   ]
  },
  {
   "cell_type": "markdown",
   "id": "b732a604-1111-4bfe-b5f8-8af86ff73f01",
   "metadata": {},
   "source": [
    "### Read in simulation outputs "
   ]
  },
  {
   "cell_type": "code",
   "execution_count": 9,
   "id": "19cce4d1-0512-4f44-83a6-49e613ab1a06",
   "metadata": {},
   "outputs": [
    {
     "name": "stderr",
     "output_type": "stream",
     "text": [
      "/tmp/ipykernel_1210844/288491411.py:30: FutureWarning: Indexing with multiple keys (implicitly converted to a tuple of keys) will be deprecated, use a list instead.\n",
      "  tmp = df_master.groupby([\"time\", \"species\"])[\"protein\", \"ribo_density\"].mean().reset_index()\n"
     ]
    }
   ],
   "source": [
    "# reads in simulation output at time = time_limit, takes average over 3 replicates, and appends to a master dataframe\n",
    "df_master = None\n",
    "\n",
    "for ecol_codons in ecol_mrna_compositions:\n",
    "    df_ecol = None\n",
    "    for charging_rate in trna_charging_rates:\n",
    "        df_charge = None\n",
    "        for speed in ribosome_speed:\n",
    "            df_binding = None\n",
    "            for codons in gfp_mrna_compositions:\n",
    "                path = f\"output/{date}/speed_{speed}/two_codon_multi_transcript_{ecol_codons[0]}_{ecol_codons[1]}_{codons[0]}_{codons[1]}_0.7_0.3\" + \\\n",
    "                       f\"_{cellular_transcript_copy_number}_{gfp_transcript_copy_number}_{ribosome_copy_number}_{total_trna}\" + \\\n",
    "                       f\"_{ecol_rbs_rate}_{ribosome_binding_rate}_{charging_rate}_{charging_rate}\"\n",
    "                tmp = get_average_protein(path, 0.5, 100, 3)\n",
    "                tmp[\"codon\"] = float(codons[0])\n",
    "                tmp[\"species\"] = tmp[\"species\"].replace({\"__ribosome\": \"free ribosome\"})\n",
    "                if df_binding is not None:\n",
    "                    df_binding = df_binding.append(tmp, ignore_index=True)\n",
    "                else:\n",
    "                    df_binding = tmp\n",
    "            df_binding[\"speed\"] = speed\n",
    "            if df_charge is not None:\n",
    "                df_charge = df_charge.append(df_binding, ignore_index=True)\n",
    "            else:\n",
    "                df_charge = df_binding\n",
    "        df_charge[\"charging_rate\"] = charging_rate\n",
    "        if df_ecol is not None:\n",
    "            df_ecol = df_ecol.append(df_charge, ignore_index=True)\n",
    "        else:\n",
    "            df_ecol = df_charge\n",
    "    df_ecol[\"ecol\"] = ecol_codons[0]\n",
    "    if df_master is not None:\n",
    "        df_master = df_master.append(df_ecol, ignore_index=True)\n",
    "    else:\n",
    "        df_master = df_ecol\n",
    "    \n",
    "\n",
    "df_master = df_master[(df_master.time == 100.0)]\n",
    "df_master[\"codon\"] = df_master[\"codon\"].div(1).round(1)"
   ]
  },
  {
   "cell_type": "code",
   "execution_count": 10,
   "id": "f6aa5ba4-c01c-4fb2-bbf1-be8e0df385eb",
   "metadata": {},
   "outputs": [
    {
     "data": {
      "text/html": [
       "<div>\n",
       "<style scoped>\n",
       "    .dataframe tbody tr th:only-of-type {\n",
       "        vertical-align: middle;\n",
       "    }\n",
       "\n",
       "    .dataframe tbody tr th {\n",
       "        vertical-align: top;\n",
       "    }\n",
       "\n",
       "    .dataframe thead th {\n",
       "        text-align: right;\n",
       "    }\n",
       "</style>\n",
       "<table border=\"1\" class=\"dataframe\">\n",
       "  <thead>\n",
       "    <tr style=\"text-align: right;\">\n",
       "      <th></th>\n",
       "      <th>time</th>\n",
       "      <th>species</th>\n",
       "      <th>protein</th>\n",
       "      <th>ribo_density</th>\n",
       "      <th>ribo_density_ave</th>\n",
       "      <th>codon</th>\n",
       "      <th>speed</th>\n",
       "      <th>charging_rate</th>\n",
       "      <th>ecol</th>\n",
       "    </tr>\n",
       "  </thead>\n",
       "  <tbody>\n",
       "    <tr>\n",
       "      <th>0</th>\n",
       "      <td>100.0</td>\n",
       "      <td>ATA_charged</td>\n",
       "      <td>102.000000</td>\n",
       "      <td>0.000000</td>\n",
       "      <td>4.935000</td>\n",
       "      <td>0.7</td>\n",
       "      <td>0.125</td>\n",
       "      <td>10.0</td>\n",
       "      <td>0.2</td>\n",
       "    </tr>\n",
       "    <tr>\n",
       "      <th>1</th>\n",
       "      <td>100.0</td>\n",
       "      <td>ATA_uncharged</td>\n",
       "      <td>648.000000</td>\n",
       "      <td>0.000000</td>\n",
       "      <td>4.935000</td>\n",
       "      <td>0.7</td>\n",
       "      <td>0.125</td>\n",
       "      <td>10.0</td>\n",
       "      <td>0.2</td>\n",
       "    </tr>\n",
       "    <tr>\n",
       "      <th>2</th>\n",
       "      <td>100.0</td>\n",
       "      <td>TTT_charged</td>\n",
       "      <td>1580.333333</td>\n",
       "      <td>0.000000</td>\n",
       "      <td>4.935000</td>\n",
       "      <td>0.7</td>\n",
       "      <td>0.125</td>\n",
       "      <td>10.0</td>\n",
       "      <td>0.2</td>\n",
       "    </tr>\n",
       "    <tr>\n",
       "      <th>3</th>\n",
       "      <td>100.0</td>\n",
       "      <td>TTT_uncharged</td>\n",
       "      <td>169.666667</td>\n",
       "      <td>0.000000</td>\n",
       "      <td>4.935000</td>\n",
       "      <td>0.7</td>\n",
       "      <td>0.125</td>\n",
       "      <td>10.0</td>\n",
       "      <td>0.2</td>\n",
       "    </tr>\n",
       "    <tr>\n",
       "      <th>4</th>\n",
       "      <td>100.0</td>\n",
       "      <td>__GFP_rbs</td>\n",
       "      <td>20.000000</td>\n",
       "      <td>0.000000</td>\n",
       "      <td>4.935000</td>\n",
       "      <td>0.7</td>\n",
       "      <td>0.125</td>\n",
       "      <td>10.0</td>\n",
       "      <td>0.2</td>\n",
       "    </tr>\n",
       "    <tr>\n",
       "      <th>...</th>\n",
       "      <td>...</td>\n",
       "      <td>...</td>\n",
       "      <td>...</td>\n",
       "      <td>...</td>\n",
       "      <td>...</td>\n",
       "      <td>...</td>\n",
       "      <td>...</td>\n",
       "      <td>...</td>\n",
       "      <td>...</td>\n",
       "    </tr>\n",
       "    <tr>\n",
       "      <th>2347</th>\n",
       "      <td>100.0</td>\n",
       "      <td>TTT_uncharged</td>\n",
       "      <td>90.333333</td>\n",
       "      <td>0.000000</td>\n",
       "      <td>0.674667</td>\n",
       "      <td>0.7</td>\n",
       "      <td>8.000</td>\n",
       "      <td>10000.0</td>\n",
       "      <td>1.0</td>\n",
       "    </tr>\n",
       "    <tr>\n",
       "      <th>2348</th>\n",
       "      <td>100.0</td>\n",
       "      <td>__GFP_rbs</td>\n",
       "      <td>20.000000</td>\n",
       "      <td>0.000000</td>\n",
       "      <td>0.674667</td>\n",
       "      <td>0.7</td>\n",
       "      <td>8.000</td>\n",
       "      <td>10000.0</td>\n",
       "      <td>1.0</td>\n",
       "    </tr>\n",
       "    <tr>\n",
       "      <th>2349</th>\n",
       "      <td>100.0</td>\n",
       "      <td>__cellularProtein_rbs</td>\n",
       "      <td>99.333333</td>\n",
       "      <td>0.000000</td>\n",
       "      <td>0.674667</td>\n",
       "      <td>0.7</td>\n",
       "      <td>8.000</td>\n",
       "      <td>10000.0</td>\n",
       "      <td>1.0</td>\n",
       "    </tr>\n",
       "    <tr>\n",
       "      <th>2350</th>\n",
       "      <td>100.0</td>\n",
       "      <td>free ribosome</td>\n",
       "      <td>434.666667</td>\n",
       "      <td>0.000000</td>\n",
       "      <td>0.674667</td>\n",
       "      <td>0.7</td>\n",
       "      <td>8.000</td>\n",
       "      <td>10000.0</td>\n",
       "      <td>1.0</td>\n",
       "    </tr>\n",
       "    <tr>\n",
       "      <th>2351</th>\n",
       "      <td>100.0</td>\n",
       "      <td>cellularProtein</td>\n",
       "      <td>89038.333333</td>\n",
       "      <td>0.653333</td>\n",
       "      <td>0.674667</td>\n",
       "      <td>0.7</td>\n",
       "      <td>8.000</td>\n",
       "      <td>10000.0</td>\n",
       "      <td>1.0</td>\n",
       "    </tr>\n",
       "  </tbody>\n",
       "</table>\n",
       "<p>2352 rows × 9 columns</p>\n",
       "</div>"
      ],
      "text/plain": [
       "       time                species       protein  ribo_density  \\\n",
       "0     100.0            ATA_charged    102.000000      0.000000   \n",
       "1     100.0          ATA_uncharged    648.000000      0.000000   \n",
       "2     100.0            TTT_charged   1580.333333      0.000000   \n",
       "3     100.0          TTT_uncharged    169.666667      0.000000   \n",
       "4     100.0              __GFP_rbs     20.000000      0.000000   \n",
       "...     ...                    ...           ...           ...   \n",
       "2347  100.0          TTT_uncharged     90.333333      0.000000   \n",
       "2348  100.0              __GFP_rbs     20.000000      0.000000   \n",
       "2349  100.0  __cellularProtein_rbs     99.333333      0.000000   \n",
       "2350  100.0          free ribosome    434.666667      0.000000   \n",
       "2351  100.0        cellularProtein  89038.333333      0.653333   \n",
       "\n",
       "      ribo_density_ave  codon  speed  charging_rate  ecol  \n",
       "0             4.935000    0.7  0.125           10.0   0.2  \n",
       "1             4.935000    0.7  0.125           10.0   0.2  \n",
       "2             4.935000    0.7  0.125           10.0   0.2  \n",
       "3             4.935000    0.7  0.125           10.0   0.2  \n",
       "4             4.935000    0.7  0.125           10.0   0.2  \n",
       "...                ...    ...    ...            ...   ...  \n",
       "2347          0.674667    0.7  8.000        10000.0   1.0  \n",
       "2348          0.674667    0.7  8.000        10000.0   1.0  \n",
       "2349          0.674667    0.7  8.000        10000.0   1.0  \n",
       "2350          0.674667    0.7  8.000        10000.0   1.0  \n",
       "2351          0.674667    0.7  8.000        10000.0   1.0  \n",
       "\n",
       "[2352 rows x 9 columns]"
      ]
     },
     "execution_count": 10,
     "metadata": {},
     "output_type": "execute_result"
    }
   ],
   "source": [
    "df_master"
   ]
  },
  {
   "cell_type": "code",
   "execution_count": 11,
   "id": "b0f27c30-1eb7-4220-9c16-b9ed936ba0d5",
   "metadata": {},
   "outputs": [],
   "source": [
    "df = df_master.pivot_table(index=['speed', 'charging_rate', \"ecol\"], columns='species', values='protein').reset_index()\n",
    "\n",
    "df[\"TTT_charged_perc\"] = df[\"TTT_charged\"] / (total_trna*0.7)\n",
    "df[\"ATA_charged_perc\"] = df[\"ATA_charged\"] / (total_trna*0.3)\n",
    "df[\"free_ribosome_perc\"] = df[\"free ribosome\"] / ribosome_copy_number"
   ]
  },
  {
   "cell_type": "code",
   "execution_count": 12,
   "id": "5249f3c1-da2e-4ba1-aefe-39d5571988ef",
   "metadata": {},
   "outputs": [],
   "source": [
    "df = df.rename_axis(\"index\", axis=1).reset_index(drop=True)\n",
    "df = df[(df.ecol == 0.6)]\n",
    "df = df[[\"speed\", \"charging_rate\", \"free_ribosome_perc\", \"ATA_charged_perc\", \"TTT_charged_perc\"]]"
   ]
  },
  {
   "cell_type": "code",
   "execution_count": 22,
   "id": "fc87cbcc-3b85-4ad1-bd52-3b0975f7fabf",
   "metadata": {},
   "outputs": [],
   "source": [
    "# final dataframe\n",
    "df_master.to_csv(\"speed_vs_charging_grid_search.csv\")"
   ]
  },
  {
   "cell_type": "code",
   "execution_count": null,
   "id": "86a33cf1-152d-42ad-997e-ec0e2591173e",
   "metadata": {},
   "outputs": [],
   "source": [
    "# can uncomment to re-create plots from processed data\n",
    "# df = pd.read_csv(\"speed_vs_charging_grid_search.csv\")"
   ]
  },
  {
   "cell_type": "code",
   "execution_count": 14,
   "id": "d5c4ced0-5131-401e-9c25-91ff7d891632",
   "metadata": {},
   "outputs": [
    {
     "data": {
      "text/plain": [
       "<AxesSubplot:xlabel='charging_rate', ylabel='speed'>"
      ]
     },
     "execution_count": 14,
     "metadata": {},
     "output_type": "execute_result"
    },
    {
     "data": {
      "image/png": "[encoded data removed]",
      "text/plain": [
       "<Figure size 432x288 with 2 Axes>"
      ]
     },
     "metadata": {
      "needs_background": "light"
     },
     "output_type": "display_data"
    }
   ],
   "source": [
    "plot_data = df.pivot(index=\"speed\", columns=\"charging_rate\", values=\"free_ribosome_perc\")\n",
    "sns.heatmap(plot_data, center=0.2, cmap=\"vlag\")"
   ]
  },
  {
   "cell_type": "code",
   "execution_count": 15,
   "id": "11808bae-0b1c-458d-9062-db48c24bf1d1",
   "metadata": {},
   "outputs": [
    {
     "data": {
      "text/plain": [
       "<AxesSubplot:xlabel='charging_rate', ylabel='speed'>"
      ]
     },
     "execution_count": 15,
     "metadata": {},
     "output_type": "execute_result"
    },
    {
     "data": {
      "image/png": "[encoded data removed]",
      "text/plain": [
       "<Figure size 432x288 with 2 Axes>"
      ]
     },
     "metadata": {
      "needs_background": "light"
     },
     "output_type": "display_data"
    }
   ],
   "source": [
    "plot_data = df.pivot(index=\"speed\", columns=\"charging_rate\", values=\"TTT_charged_perc\")\n",
    "sns.heatmap(plot_data, center=0.75, cmap=\"vlag\")"
   ]
  },
  {
   "cell_type": "code",
   "execution_count": 16,
   "id": "a240f1fb-de2b-415b-9abb-29a33c6137bd",
   "metadata": {},
   "outputs": [
    {
     "data": {
      "text/plain": [
       "<AxesSubplot:xlabel='charging_rate', ylabel='speed'>"
      ]
     },
     "execution_count": 16,
     "metadata": {},
     "output_type": "execute_result"
    },
    {
     "data": {
      "image/png": "[encoded data removed]",
      "text/plain": [
       "<Figure size 432x288 with 2 Axes>"
      ]
     },
     "metadata": {
      "needs_background": "light"
     },
     "output_type": "display_data"
    }
   ],
   "source": [
    "plot_data = df.pivot(index=\"speed\", columns=\"charging_rate\", values=\"ATA_charged_perc\")\n",
    "sns.heatmap(plot_data, center=0.75, cmap=\"vlag\")"
   ]
  }
 ],
 "metadata": {
  "kernelspec": {
   "display_name": "Python 3 (ipykernel)",
   "language": "python",
   "name": "python3"
  },
  "language_info": {
   "codemirror_mode": {
    "name": "ipython",
    "version": 3
   },
   "file_extension": ".py",
   "mimetype": "text/x-python",
   "name": "python",
   "nbconvert_exporter": "python",
   "pygments_lexer": "ipython3",
   "version": "3.8.12"
  }
 },
 "nbformat": 4,
 "nbformat_minor": 5
}
