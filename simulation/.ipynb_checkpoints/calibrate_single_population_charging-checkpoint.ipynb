{
 "cells": [
  {
   "cell_type": "markdown",
   "id": "ba39e0d0-6c84-44c5-8280-5f1ead56d16e",
   "metadata": {},
   "source": [
    "Runs parameter sweep of charging rates 10^1 to 5*10^3, and RBS binding rates 10^3 to 10^5\n",
    "\n",
    "Single transcript population. OEP is present w/ negligible RBS as \"control\"\n",
    "\n",
    "Simulations w/ the highest RBS (10^5) are plotted in Roots et al. fig2"
   ]
  },
  {
   "cell_type": "code",
   "execution_count": 36,
   "id": "341a3f42-fcdf-4554-b134-d031f74824ae",
   "metadata": {},
   "outputs": [],
   "source": [
    "from IPython.display import display, HTML\n",
    "import numpy as np\n",
    "import pandas as pd\n",
    "import seaborn as sns\n",
    "from matplotlib import rcParams\n",
    "import matplotlib.pyplot as plt\n",
    "from matplotlib.colors import LogNorm\n",
    "%matplotlib inline\n",
    "import math"
   ]
  },
  {
   "cell_type": "code",
   "execution_count": 37,
   "id": "8fcc9ff8-6d54-47be-af82-c6c779269539",
   "metadata": {},
   "outputs": [],
   "source": [
    "from trnasimtools.serialize import SerializeTwoCodonMultiTranscript\n",
    "import os"
   ]
  },
  {
   "cell_type": "code",
   "execution_count": 38,
   "id": "7d2a559a-3503-4797-b3cd-4fa76a049b38",
   "metadata": {},
   "outputs": [],
   "source": [
    "def read_sim(path_pref, seed_start=1, seed_end=3, seed_incr=1, time_limit=None):\n",
    "    \"\"\" \n",
    "    Reads in output for an arbitrary number of simulation trials \n",
    "    (with different seeds) and concatenates results into a single\n",
    "    dataset.\n",
    "    \"\"\"\n",
    "    df_master = pd.read_csv(f\"{path_pref}_{seed_start}.tsv\", sep=\"\\t\")\n",
    "    df_master[\"seed\"] = str(seed_start)\n",
    "    for i in range(seed_start+1, seed_end+1):\n",
    "        tmp = pd.read_csv(f\"{path_pref}_{i}.tsv\", sep=\"\\t\")\n",
    "        tmp[\"seed\"] = str(i)\n",
    "        df_master = df_master.append(tmp, ignore_index=True)\n",
    "    if time_limit is not None:\n",
    "        df_master = df_master[df_master.time < time_limit]\n",
    "    return df_master\n",
    "    \n",
    "def concat_sims(path_pref, max_seed):\n",
    "    df_master = pd.read_csv(f\"{path_pref}_1.tsv\", sep=\"\\t\")\n",
    "    df_master[\"seed\"] = str(1)\n",
    "    for i in range(2, max_seed+1):\n",
    "        tmp = pd.read_csv(f\"{path_pref}_{i}.tsv\", sep=\"\\t\")\n",
    "        tmp[\"seed\"] = str(i)\n",
    "        df_master = df_master.append(tmp, ignore_index=True)\n",
    "    \n",
    "    return df_master\n",
    "    \n",
    "def get_average_protein(path, perc_good, time, max_seed):\n",
    "    df_master = concat_sims(path, max_seed)\n",
    "    \n",
    "    df_master[\"time\"] = df_master[\"time\"].apply(np.ceil)\n",
    "    #tmp = df_master.loc[df_master['time'] == time].groupby([\"species\"])[\"protein\"].mean().reset_index()\n",
    "    tmp = df_master.groupby([\"time\", \"species\"])[\"protein\", \"ribo_density\"].mean().reset_index()\n",
    "    tmp[\"delta\"] = tmp.groupby([\"species\"])[\"protein\"].diff(periods=8)\n",
    "    tmp = tmp[(tmp.time == time) | (tmp.time == 50.0)]\n",
    "    return tmp"
   ]
  },
  {
   "cell_type": "code",
   "execution_count": 39,
   "id": "03f33ae2-5f82-4ab9-ad94-1afef839b58a",
   "metadata": {},
   "outputs": [],
   "source": [
    "# Simulation parameters\n",
    "ecol_mrna_composition = [(x/100, round(1 - (x/100), 2)) for x in range(1, 100)] # cell fopt\n",
    "time_limit = 200\n",
    "time_step = 5\n",
    "transcript_lens = [1000]\n",
    "cellular_transcript_copy_number = [100]\n",
    "gfp_transcript_copy_numbers = [10]\n",
    "ribosome_copy_number = 500\n",
    "total_trna = 2500\n",
    "ecol_rbs_rates = [1000.0, 5000.0, 10000.0, 50000.0, 100000.0] # RBS binding rate for cell\n",
    "ribosome_binding_rate = 0.001 # Really low binding rate for OEP \"control\"\n",
    "trna_charging_rates = [10.0, 50.0, 100.0, 250.0, 500.0, 1000.0, 5000.0]\n",
    "transcript_names = [\"cellularProtein\", \"GFP\"]\n",
    "trna_composition = [(0.7, 0.3)]\n",
    "gfp_mrna_composition = (0.7, 0.3)\n",
    "ribosome_speed = 3 \n",
    "ribosome_footprint = 15\n",
    "\n",
    "date = \"feb-27-2024\""
   ]
  },
  {
   "cell_type": "code",
   "execution_count": 41,
   "id": "9bc7ef0d-b9cd-49d2-87de-af79c1ca12a8",
   "metadata": {},
   "outputs": [],
   "source": [
    "#!mkdir yaml/feb-27-2024\n",
    "#!mkdir output/feb-27-2024"
   ]
  },
  {
   "cell_type": "code",
   "execution_count": 42,
   "id": "40855526-aa77-472e-aaf8-4a75098112a8",
   "metadata": {},
   "outputs": [],
   "source": [
    "# writes sim parameters to yaml\n",
    "for trna_prop in trna_composition:\n",
    "    for ecol_comp in ecol_mrna_composition:\n",
    "        serializer = SerializeTwoCodonMultiTranscript(transcript_lens=transcript_lens,\n",
    "                                                       codon_comps=[ecol_comp, gfp_mrna_composition],\n",
    "                                                       trna_proportion=trna_prop,\n",
    "                                                       transcript_names=transcript_names,\n",
    "                                                       time_limit=time_limit,\n",
    "                                                       time_step=time_step)\n",
    "        serializer.serialize(f\"yaml/{date}\")\n",
    "\n",
    "# creates batch simulation file\n",
    "configs = os.listdir(f\"yaml/{date}\")\n",
    "with open(f\"{date}.txt\", \"w\") as stream:\n",
    "    for config in configs:\n",
    "        for copy_number in gfp_transcript_copy_numbers:\n",
    "            for ecol_binding_rate in ecol_rbs_rates:\n",
    "                for charging_rate in trna_charging_rates:\n",
    "                    for seed in range(1, 4):\n",
    "                        cmd = f\"python3 twocodonmultitranscript.py yaml/{date}/{config} {seed} {cellular_transcript_copy_number} {copy_number} \" + \\\n",
    "                          f\"{ribosome_copy_number} {total_trna} {ecol_binding_rate} {ribosome_binding_rate} {charging_rate} {charging_rate} \" + \\\n",
    "                          f\"output/{date} {ribosome_speed} {ribosome_footprint}\"\n",
    "                        stream.write(cmd)\n",
    "                        stream.write(\"\\n\")"
   ]
  },
  {
   "cell_type": "markdown",
   "id": "d2a26508-1a01-4118-9d99-dea7cc0bfced",
   "metadata": {},
   "source": [
    "### Read in simulation outputs"
   ]
  },
  {
   "cell_type": "code",
   "execution_count": null,
   "id": "ccc7bc8e-cbf1-4804-93c7-b24bbcf770f6",
   "metadata": {},
   "outputs": [],
   "source": [
    "# reads in simulation output at time = time_limit, takes average over 3 replicates, and appends to a master dataframe\n",
    "df_master = None\n",
    "for ecol_rbs_rate in ecol_rbs_rates:\n",
    "    df_rbs = None\n",
    "    for comp in ecol_mrna_composition:\n",
    "        df_comp = None\n",
    "        for codons in gfp_mrna_compositions:\n",
    "            df_codon = None\n",
    "            for chrg_rate in trna_charging_rates:\n",
    "                path = f\"../../tRNA-dynamics/output/{date}/two_codon_multi_transcript_{comp[0]}_{comp[1]}_0.7_0.3_0.7_0.3\" + \\\n",
    "                       f\"_{cellular_transcript_copy_number[0]}_{gfp_transcript_copy_numbers[0]}_{ribosome_copy_number}_{total_trna}\" + \\\n",
    "                       f\"_{ecol_rbs_rate}_0.001_{chrg_rate}_{chrg_rate}\"\n",
    "                tmp = get_average_protein(path, 0.5, 200, 3)\n",
    "                tmp[\"charging_rate\"] = chrg_rate\n",
    "                tmp[\"species\"] = tmp[\"species\"].replace({\"__ribosome\": \"free ribosome\"})\n",
    "                if df_codon is not None:\n",
    "                    df_codon = df_codon.append(tmp, ignore_index=True)\n",
    "                else:\n",
    "                    df_codon = tmp\n",
    "            df_codon[\"codon\"] = float(codons[0])\n",
    "            if df_comp is not None:\n",
    "                df_comp = df_comp.append(df_codon, ignore_index=True)\n",
    "            else:\n",
    "                df_comp = df_codon\n",
    "        df_comp[\"ecol_comp\"] = comp[0]\n",
    "        if df_rbs is not None:\n",
    "            df_rbs = df_rbs.append(df_comp, ignore_index=True)\n",
    "        else:\n",
    "            df_rbs = df_comp\n",
    "    df_rbs[\"rbs_rate\"] = ecol_rbs_rate\n",
    "    if df_master is not None:\n",
    "        df_master = df_master.append(df_rbs, ignore_index=True)\n",
    "    else:\n",
    "        df_master = df_rbs\n",
    "\n",
    "df_master = df_master[(df_master.time == 200.0)]\n",
    "df_master[\"codon\"] = df_master[\"codon\"].div(1).round(1)"
   ]
  },
  {
   "cell_type": "code",
   "execution_count": null,
   "id": "200c202c-6aa0-4c54-930d-cbee863577d0",
   "metadata": {},
   "outputs": [],
   "source": [
    "df_master[(df_master.rbs_rate == 100000.0)].to_csv(\"calibrate_single_population_charging_1e6.csv\")"
   ]
  }
 ],
 "metadata": {
  "kernelspec": {
   "display_name": "Python 3 (ipykernel)",
   "language": "python",
   "name": "python3"
  },
  "language_info": {
   "codemirror_mode": {
    "name": "ipython",
    "version": 3
   },
   "file_extension": ".py",
   "mimetype": "text/x-python",
   "name": "python",
   "nbconvert_exporter": "python",
   "pygments_lexer": "ipython3",
   "version": "3.8.12"
  }
 },
 "nbformat": 4,
 "nbformat_minor": 5
}
